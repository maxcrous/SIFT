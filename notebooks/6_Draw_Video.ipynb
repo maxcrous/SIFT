{
 "cells": [
  {
   "cell_type": "markdown",
   "id": "ef9a0e68-aacb-4d1c-a18f-15fad619a877",
   "metadata": {},
   "source": [
    "# Draw on Video\n",
    "#### This notebook draws SIFT feature locations into a video.\n",
    "#### Only features matched across consecutive frames are drawn. "
   ]
  },
  {
   "cell_type": "code",
   "execution_count": null,
   "id": "3381f4a3-eb24-40c6-a6fe-e5a495a72943",
   "metadata": {},
   "outputs": [],
   "source": [
    "import skvideo.io  \n",
    "import matplotlib.pyplot as plt\n",
    "\n",
    "# Handles relative import\n",
    "import os, sys\n",
    "dir2 = os.path.abspath('')\n",
    "dir1 = os.path.dirname(dir2)\n",
    "if not dir1 in sys.path: sys.path.append(dir1)\n",
    "\n",
    "import cv2\n",
    "import numpy as np\n",
    "import matplotlib\n",
    "import matplotlib.pyplot as plt\n",
    "\n",
    "import match as match_lib \n",
    "\n",
    "from sift import detect_sift_features"
   ]
  },
  {
   "cell_type": "markdown",
   "id": "4e31ae40-534a-47fa-84c9-f165d5fc3247",
   "metadata": {},
   "source": [
    "## Detect and draw"
   ]
  },
  {
   "cell_type": "code",
   "execution_count": null,
   "id": "24c13891-4269-42a6-bcd8-0e855f9ec10c",
   "metadata": {
    "scrolled": true,
    "tags": []
   },
   "outputs": [],
   "source": [
    "videodata = skvideo.io.vread(\"../videos/desk.mp4\")  \n",
    "cmap = matplotlib.cm.get_cmap('autumn_r')\n",
    "\n",
    "anot_vid = list()\n",
    "\n",
    "prev_features = None \n",
    "features = None\n",
    "color = (0, 255, 0)\n",
    "frac_width = videodata.shape[2] / 8\n",
    "frac_width = frac_width / 6\n",
    "nr_frames = videodata.shape[0]\n",
    "\n",
    "for idx, frame in enumerate(videodata):\n",
    "    if not idx % 10: \n",
    "        print(f'At frame {idx} out of {nr_frames}')\n",
    "    img_col = cv2.resize(frame, None, fx=0.1, fy=0.1, interpolation=cv2.INTER_LINEAR)\n",
    "    img = cv2.cvtColor(img_col, cv2.COLOR_RGB2GRAY)\n",
    "    img = cv2.normalize(img, None, alpha=0, beta=1, norm_type=cv2.NORM_MINMAX, dtype=cv2.CV_32F)\n",
    "    features = detect_sift_features(img)\n",
    "    \n",
    "    if prev_features:\n",
    "        matches = match_lib.match_sift_features(prev_features, features)\n",
    "        for feat1, feat2 in matches: \n",
    "            if np.linalg.norm(feat2.absolute_coordinate - feat1.absolute_coordinate) < frac_width: \n",
    "                s, y, x = feat2.absolute_coordinate.round().astype(int)\n",
    "                p_s, p_y, p_x = feat1.absolute_coordinate.round().astype(int)\n",
    "                img_col = cv2.circle(img_col, (x, y), 2, color=color, thickness=-1)\n",
    "                img_col = cv2.line(img_col, (p_x, p_y), (x, y), color=color, thickness=1)\n",
    "\n",
    "    prev_features = features\n",
    "    anot_vid.append(img_col)\n"
   ]
  },
  {
   "cell_type": "markdown",
   "id": "7a1bf090-93f0-4c61-a5c2-4191ee7d52f1",
   "metadata": {},
   "source": [
    "## Write To Disk"
   ]
  },
  {
   "cell_type": "code",
   "execution_count": null,
   "id": "2d96e14f-1b3e-4f36-9d9d-81002b912b93",
   "metadata": {},
   "outputs": [],
   "source": [
    "anot_vid = np.array(anot_vid).astype(np.uint8)\n",
    "repeated = anot_vid.repeat(5, 0)\n",
    "skvideo.io.vwrite(\"desk_with_features.mp4\", anot_vid)"
   ]
  }
 ],
 "metadata": {
  "kernelspec": {
   "display_name": "Python 3 (ipykernel)",
   "language": "python",
   "name": "python3"
  },
  "language_info": {
   "codemirror_mode": {
    "name": "ipython",
    "version": 3
   },
   "file_extension": ".py",
   "mimetype": "text/x-python",
   "name": "python",
   "nbconvert_exporter": "python",
   "pygments_lexer": "ipython3",
   "version": "3.9.5"
  }
 },
 "nbformat": 4,
 "nbformat_minor": 5
}
