{
 "cells": [
  {
   "cell_type": "markdown",
   "id": "63e1cdbd-89e5-4e91-9210-6faf43044b34",
   "metadata": {},
   "source": [
    "# Keypoints \n",
    "#### This notebook showcases the functions for keypoint **interpolation**. For finding keypoint locations (Difference of Gaussian extrema), see notebook 1."
   ]
  },
  {
   "cell_type": "markdown",
   "id": "837ff8ca-1d87-467a-9aa5-9c2d3bd273cd",
   "metadata": {
    "tags": []
   },
   "source": [
    "## Imports"
   ]
  },
  {
   "cell_type": "code",
   "execution_count": 1,
   "id": "36d1486c-ea91-4168-917c-65712c46fa6a",
   "metadata": {},
   "outputs": [],
   "source": [
    "# Handles relative import\n",
    "import os, sys\n",
    "dir2 = os.path.abspath('')\n",
    "dir1 = os.path.dirname(dir2)\n",
    "if not dir1 in sys.path: sys.path.append(dir1)\n",
    "\n",
    "import cv2\n",
    "import numpy as np\n",
    "import matplotlib.pyplot as plt\n",
    "\n",
    "import const\n",
    "import octaves as octaves_lib\n",
    "import keypoints as keypoints_lib"
   ]
  },
  {
   "cell_type": "markdown",
   "id": "e4613e9d-1e66-4e78-8ba1-55a02ea1cebf",
   "metadata": {},
   "source": [
    "## Find Candidate Keypoint (extrema) "
   ]
  },
  {
   "cell_type": "code",
   "execution_count": 2,
   "id": "41c90bfb-d662-4e38-b367-52d48f4e40c6",
   "metadata": {},
   "outputs": [
    {
     "name": "stdout",
     "output_type": "stream",
     "text": [
      "An extremum coordinate \n",
      "\n",
      "scale: 1 \n",
      "y: 59 \n",
      "x: 156\n"
     ]
    }
   ],
   "source": [
    "img = cv2.imread('../images/box_in_scene.png', flags=cv2.IMREAD_GRAYSCALE)\n",
    "img = cv2.normalize(img, None, alpha=0, beta=1, norm_type=cv2.NORM_MINMAX, dtype=cv2.CV_32F)\n",
    "img = img[0:300, 100:400]\n",
    "gauss_octaves = octaves_lib.build_gaussian_octaves(img)\n",
    "dog_octave = octaves_lib.build_dog_octave(gauss_octaves[0])\n",
    "extrema = octaves_lib.find_dog_extrema(dog_octave)\n",
    "extremum = extrema.T[9]\n",
    "s, y, x = extremum\n",
    "derivs, second_derivs = octaves_lib.derivatives(dog_octave)\n",
    "print(f'An extremum coordinate \\n\\nscale: {s} \\ny: {y} \\nx: {x}')"
   ]
  },
  {
   "cell_type": "markdown",
   "id": "5a01a71a-0522-45f2-994f-ee172f8c2df2",
   "metadata": {},
   "source": [
    "## Extremum Neighborhood"
   ]
  },
  {
   "cell_type": "code",
   "execution_count": 3,
   "id": "19491f27-9c67-4221-8a27-cb3e9d51318e",
   "metadata": {},
   "outputs": [
    {
     "data": {
      "image/png": "[encoded data removed]",
      "text/plain": [
       "<Figure size 576x216 with 3 Axes>"
      ]
     },
     "metadata": {
      "needs_background": "light"
     },
     "output_type": "display_data"
    }
   ],
   "source": [
    "fig, axs = plt.subplots(1, 3, figsize=(8, 3), gridspec_kw={'wspace':0.1, 'hspace':0}, squeeze=True)\n",
    "\n",
    "s, y, x = extremum\n",
    "patch = dog_octave[s - 1: s + 2, \n",
    "                   y - 1: y + 2, \n",
    "                   x - 1: x + 2]\n",
    "\n",
    "for i in range(3):\n",
    "    axs[i].axis('off')\n",
    "    axs[i].imshow(patch[i], vmin=0, vmax=0.0017)\n",
    "    axs[i].title.set_text(f'rel layer: {i - 1}')\n",
    "\n",
    "axs[1].scatter(1,1, c='r')\n",
    "plt.suptitle('Red dot is extremum')\n",
    "plt.show()"
   ]
  },
  {
   "cell_type": "markdown",
   "id": "c4584542-2b6f-4292-9953-1d2d49986475",
   "metadata": {},
   "source": [
    "## Interpolate Extremum"
   ]
  },
  {
   "cell_type": "code",
   "execution_count": 4,
   "id": "3ca6cd28-5966-426c-ae5e-61af26af54e6",
   "metadata": {},
   "outputs": [
    {
     "data": {
      "image/png": "[encoded data removed]",
      "text/plain": [
       "<Figure size 576x216 with 3 Axes>"
      ]
     },
     "metadata": {
      "needs_background": "light"
     },
     "output_type": "display_data"
    }
   ],
   "source": [
    "fig, axs = plt.subplots(1, 3, figsize=(8, 3), gridspec_kw={'wspace':0.1, 'hspace':0}, squeeze=True)\n",
    "\n",
    "success, interpol_coord, interpol_val = keypoints_lib.interpolate(extremum, dog_octave, derivs, second_derivs)\n",
    "offset = interpol_coord - extremum\n",
    "\n",
    "for i in range(3):\n",
    "    axs[i].axis('off')\n",
    "    axs[i].imshow(patch[i], vmin=0, vmax=0.0017)\n",
    "    axs[i].title.set_text(f'rel layer: {i - 1}')\n",
    "\n",
    "offset_layer = 0 if offset[0] < 0 else 2\n",
    "\n",
    "axs[1].scatter(1 + offset[2], 1 + offset[1], c='r', alpha=1 - abs(offset[0]))\n",
    "axs[offset_layer].scatter(1 + offset[2], 1 + offset[1], c='r', alpha=1-abs(offset[0]))\n",
    "\n",
    "plt.suptitle('Red dot is interpolated extremum which lies between layers')\n",
    "plt.show()"
   ]
  },
  {
   "cell_type": "markdown",
   "id": "4e15b94c-c9b8-4648-82aa-badaca25da03",
   "metadata": {},
   "source": [
    "## Check if Keypoint Passes Checks"
   ]
  },
  {
   "cell_type": "code",
   "execution_count": 5,
   "id": "e231a755-dddc-4621-85d8-7424d1e8c5e1",
   "metadata": {},
   "outputs": [
    {
     "name": "stdout",
     "output_type": "stream",
     "text": [
      "Fails magnitude test\n"
     ]
    }
   ],
   "source": [
    "if abs(interpol_val) > const.magnitude_thresh:\n",
    "    s, y, x = interpol_coord.round().astype(int)\n",
    "    if pass_edge_test(second_derivs[:, s, y, x]):\n",
    "        print('Keypoint is valid')\n",
    "    else: \n",
    "        print('Fails edge test')\n",
    "else: \n",
    "    print('Fails magnitude test')"
   ]
  },
  {
   "cell_type": "markdown",
   "id": "39470242-83eb-4d30-a8ca-0e95bbc2ee73",
   "metadata": {},
   "source": [
    "## Check percentage of valid keypoint"
   ]
  },
  {
   "cell_type": "code",
   "execution_count": 6,
   "id": "95a2a757-971c-41bd-8b0a-13d52df737e7",
   "metadata": {},
   "outputs": [
    {
     "name": "stdout",
     "output_type": "stream",
     "text": [
      "Pecentage of valid keypoints: 38.78%\n"
     ]
    }
   ],
   "source": [
    "valid = 0 \n",
    "invalid = 0 \n",
    "\n",
    "for extremum_coord in extrema.T:\n",
    "    passed = False\n",
    "    if abs(dog_octave[tuple(extremum_coord)]) > const.coarse_magnitude_thresh:\n",
    "        success, extremum_coord, extremum_val = keypoints_lib.interpolate(extremum_coord, dog_octave, derivs, second_derivs)\n",
    "        if success and abs(extremum_val) > const.magnitude_thresh:\n",
    "            s, y, x = extremum_coord.round().astype(int)\n",
    "            if keypoints_lib.pass_edge_test(second_derivs[:, s, y, x]):\n",
    "                valid += 1\n",
    "                passed = True\n",
    "    if passed == False: \n",
    "        invalid += 1\n",
    "        \n",
    "print(f'Pecentage of valid keypoints: {valid / (valid + invalid) * 100:.2f}%')"
   ]
  }
 ],
 "metadata": {
  "kernelspec": {
   "display_name": "Python 3 (ipykernel)",
   "language": "python",
   "name": "python3"
  },
  "language_info": {
   "codemirror_mode": {
    "name": "ipython",
    "version": 3
   },
   "file_extension": ".py",
   "mimetype": "text/x-python",
   "name": "python",
   "nbconvert_exporter": "python",
   "pygments_lexer": "ipython3",
   "version": "3.9.5"
  }
 },
 "nbformat": 4,
 "nbformat_minor": 5
}
